{
 "cells": [
  {
   "cell_type": "code",
   "execution_count": 1,
   "metadata": {},
   "outputs": [],
   "source": [
    "import pandas as pd\n",
    "import cupy as cp\n",
    "import matplotlib.pyplot as plt\n",
    "import matplotlib.image as mpimg\n",
    "import os\n",
    "import cv2\n",
    "from cuml.cluster import KMeans\n",
    "import torch\n",
    "from torchclustermetrics import silhouette"
   ]
  },
  {
   "cell_type": "code",
   "execution_count": 2,
   "metadata": {},
   "outputs": [],
   "source": [
    "# Função para carregar todas as imagens de um diretório\n",
    "def load_images_from_folder(folder):\n",
    "    images = []\n",
    "    for filename in os.listdir(folder):\n",
    "        img = mpimg.imread(os.path.join(folder, filename))\n",
    "        if img is not None:\n",
    "            images.append(img)\n",
    "    return images"
   ]
  },
  {
   "cell_type": "code",
   "execution_count": 3,
   "metadata": {},
   "outputs": [],
   "source": [
    "# Função para calcular silhouette_score médio para um dado k\n",
    "def calculate_silhouette(images, k, color_space='RGB'):\n",
    "    silhouettes = []\n",
    "    for img in images:\n",
    "        if color_space == 'HSV':\n",
    "            img = cv2.cvtColor(img, cv2.COLOR_RGB2HSV)\n",
    "        img_reshaped = img.reshape((-1, 3)).astype('float32')  # Converter para float32\n",
    "        img_reshaped_gpu = cp.asarray(img_reshaped)\n",
    "        kmeans = KMeans(n_clusters=k, random_state=42).fit(img_reshaped_gpu)\n",
    "        labels = kmeans.labels_\n",
    "        img_tensor = torch.tensor(cp.asnumpy(img_reshaped_gpu)).float().cuda()\n",
    "        labels_tensor = torch.tensor(labels).cuda()\n",
    "        silhouette_avg = silhouette.score(img_tensor, labels_tensor)  # Chamar o método estático score\n",
    "        silhouettes.append(silhouette_avg)\n",
    "    return cp.mean(cp.array(silhouettes))"
   ]
  },
  {
   "cell_type": "code",
   "execution_count": 4,
   "metadata": {},
   "outputs": [],
   "source": [
    "# Aplicar borramento e recalcular silhouette_score\n",
    "def calculate_blurred_silhouette(images, k, color_space, blur_size):\n",
    "    silhouettes = []\n",
    "    for img in images:\n",
    "        if color_space == 'HSV':\n",
    "            img = cv2.cvtColor(img, cv2.COLOR_RGB2HSV)\n",
    "        img_blurred = cv2.blur(img, (blur_size, blur_size))\n",
    "        img_reshaped = img_blurred.reshape((-1, 3)).astype('float32')\n",
    "        img_reshaped_gpu = cp.asarray(img_reshaped)\n",
    "        kmeans = KMeans(n_clusters=k, random_state=42).fit(img_reshaped_gpu)\n",
    "        labels = kmeans.labels_\n",
    "        img_tensor = torch.tensor(cp.asnumpy(img_reshaped_gpu)).float().cuda()\n",
    "        labels_tensor = torch.tensor(labels).cuda()\n",
    "        silhouette_avg = silhouette.score(img_tensor, labels_tensor)\n",
    "        silhouettes.append(silhouette_avg)\n",
    "    return cp.mean(cp.array(silhouettes))\n"
   ]
  },
  {
   "cell_type": "code",
   "execution_count": 5,
   "metadata": {},
   "outputs": [],
   "source": [
    "# Visualização dos dados\n",
    "def visualize_clusters(images, k, color_space='RGB'):\n",
    "    for img in images:\n",
    "        if color_space == 'HSV':\n",
    "            img = cv2.cvtColor(img, cv2.COLOR_RGB2HSV)\n",
    "        img_reshaped = img.reshape((-1, 3)).astype('float32')  # Converter para float32\n",
    "        img_reshaped_gpu = cp.asarray(img_reshaped)\n",
    "        kmeans = KMeans(n_clusters=k, random_state=42).fit(img_reshaped_gpu)\n",
    "        labels = kmeans.labels_\n",
    "        clustered_img = labels.get().reshape(img.shape[:2])\n",
    "        \n",
    "        plt.figure(figsize=(10, 5))\n",
    "        plt.subplot(1, 2, 1)\n",
    "        plt.title('Original Image')\n",
    "        plt.imshow(img)\n",
    "        plt.axis('off')\n",
    "        \n",
    "        plt.subplot(1, 2, 2)\n",
    "        plt.title('Clustered Image')\n",
    "        plt.imshow(clustered_img, cmap='viridis')\n",
    "        plt.axis('off')\n",
    "        \n",
    "        plt.show()"
   ]
  },
  {
   "cell_type": "code",
   "execution_count": 6,
   "metadata": {},
   "outputs": [],
   "source": [
    "# Visualizar imagens borradas\n",
    "def visualize_blurred_images(images, blur_size):\n",
    "    for img in images:\n",
    "        img_blurred = cv2.blur(img, (blur_size, blur_size))\n",
    "        \n",
    "        plt.figure(figsize=(10, 5))\n",
    "        plt.subplot(1, 2, 1)\n",
    "        plt.title('Original Image')\n",
    "        plt.imshow(img)\n",
    "        plt.axis('off')\n",
    "        \n",
    "        plt.subplot(1, 2, 2)\n",
    "        plt.title(f'Blurred Image ({blur_size}x{blur_size})')\n",
    "        plt.imshow(img_blurred)\n",
    "        plt.axis('off')\n",
    "        \n",
    "        plt.show()"
   ]
  },
  {
   "cell_type": "code",
   "execution_count": 7,
   "metadata": {},
   "outputs": [],
   "source": [
    "# Carregar imagens\n",
    "folder_path = '/home/bsfn19/PIB/ALL_IDB2/images'\n",
    "images = load_images_from_folder(folder_path)"
   ]
  },
  {
   "cell_type": "code",
   "execution_count": 8,
   "metadata": {},
   "outputs": [
    {
     "name": "stdout",
     "output_type": "stream",
     "text": [
      "Média do Silhouette Score para k=2 e RGB:  0.7319810727467904\n",
      "Média do Silhouette Score para k=3 e RGB:  0.6869305686308788\n"
     ]
    }
   ],
   "source": [
    "# Testar k=2 e k=3 para RGB\n",
    "silhouette_rgb_k2 = calculate_silhouette(images, 2, 'RGB')\n",
    "print(\"Média do Silhouette Score para k=2 e RGB: \", silhouette_rgb_k2)\n",
    "silhouette_rgb_k3 = calculate_silhouette(images, 3, 'RGB')\n",
    "print(\"Média do Silhouette Score para k=3 e RGB: \", silhouette_rgb_k3)\n"
   ]
  },
  {
   "cell_type": "code",
   "execution_count": 9,
   "metadata": {},
   "outputs": [
    {
     "name": "stdout",
     "output_type": "stream",
     "text": [
      "Média do Silhouette Score para k=2 e HSV:  0.7470214111300615\n",
      "Média do Silhouette Score para k=3 e HSV:  0.7725789397954941\n"
     ]
    }
   ],
   "source": [
    "# Testar k=2 e k=3 para HSV\n",
    "silhouette_hsv_k2 = calculate_silhouette(images, 2, 'HSV')\n",
    "print(\"Média do Silhouette Score para k=2 e HSV: \", silhouette_hsv_k2)\n",
    "silhouette_hsv_k3 = calculate_silhouette(images, 3, 'HSV')\n",
    "print(\"Média do Silhouette Score para k=3 e HSV: \", silhouette_hsv_k3)\n"
   ]
  },
  {
   "cell_type": "code",
   "execution_count": 10,
   "metadata": {},
   "outputs": [
    {
     "name": "stdout",
     "output_type": "stream",
     "text": [
      "Média do Silhouette Score para k=2 e RGB com borramento 11x11:  0.742155432013365\n",
      "Média do Silhouette Score para k=3 e RGB com borramento 13x13:  0.6774886165673916\n"
     ]
    }
   ],
   "source": [
    "# Testar borramento 11x11 e 13x13 e k=2\n",
    "silhouette_blur_11_rgb_k2 = calculate_blurred_silhouette(images, 2, 'RGB', 11)\n",
    "print(\"Média do Silhouette Score para k=2 e RGB com borramento 11x11: \", silhouette_blur_11_rgb_k2)\n",
    "silhouette_blur_13_rgb_k3 = calculate_blurred_silhouette(images, 3, 'RGB', 13)\n",
    "print(\"Média do Silhouette Score para k=3 e RGB com borramento 13x13: \", silhouette_blur_13_rgb_k3)"
   ]
  },
  {
   "cell_type": "code",
   "execution_count": 11,
   "metadata": {},
   "outputs": [
    {
     "name": "stdout",
     "output_type": "stream",
     "text": [
      "Média do Silhouette Score para k=2 e HSV com borramento 11x11:  0.7837382827813809\n",
      "Média do Silhouette Score para k=3 e HSV com borramento 13x13:  0.7025265967616668\n"
     ]
    }
   ],
   "source": [
    "# Testar borramento 11x11 e 13x13 e k=2\n",
    "silhouette_blur_11_hsv_k2 = calculate_blurred_silhouette(images, 2, 'HSV', 11)\n",
    "print(\"Média do Silhouette Score para k=2 e HSV com borramento 11x11: \", silhouette_blur_11_hsv_k2)\n",
    "silhouette_blur_13_hsv_k3 = calculate_blurred_silhouette(images, 3, 'HSV', 13)\n",
    "print(\"Média do Silhouette Score para k=3 e HSV com borramento 13x13: \", silhouette_blur_13_hsv_k3)"
   ]
  },
  {
   "cell_type": "code",
   "execution_count": 13,
   "metadata": {},
   "outputs": [],
   "source": [
    "#Garbage Collection\n",
    "torch.cuda.empty_cache()"
   ]
  }
 ],
 "metadata": {
  "kernelspec": {
   "display_name": "bsfn19",
   "language": "python",
   "name": "python3"
  },
  "language_info": {
   "codemirror_mode": {
    "name": "ipython",
    "version": 3
   },
   "file_extension": ".py",
   "mimetype": "text/x-python",
   "name": "python",
   "nbconvert_exporter": "python",
   "pygments_lexer": "ipython3",
   "version": "3.11.9"
  }
 },
 "nbformat": 4,
 "nbformat_minor": 2
}
